{
  "nbformat": 4,
  "nbformat_minor": 0,
  "metadata": {
    "colab": {
      "provenance": [],
      "authorship_tag": "ABX9TyMZksO771758wBJfGK7F7uJ",
      "include_colab_link": true
    },
    "kernelspec": {
      "name": "python3",
      "display_name": "Python 3"
    },
    "language_info": {
      "name": "python"
    }
  },
  "cells": [
    {
      "cell_type": "markdown",
      "metadata": {
        "id": "view-in-github",
        "colab_type": "text"
      },
      "source": [
        "<a href=\"https://colab.research.google.com/github/jorge-pichardo07/EDP1/blob/main/M%C3%A9todo_de_Gauss_Seidel.ipynb\" target=\"_parent\"><img src=\"https://colab.research.google.com/assets/colab-badge.svg\" alt=\"Open In Colab\"/></a>"
      ]
    },
    {
      "cell_type": "code",
      "execution_count": 21,
      "metadata": {
        "colab": {
          "base_uri": "https://localhost:8080/"
        },
        "id": "222LLdb2viNd",
        "outputId": "29b13ecd-fcd7-4052-eda9-6fc48c5bb799"
      },
      "outputs": [
        {
          "output_type": "stream",
          "name": "stdout",
          "text": [
            "\n",
            "¿Desea resolver algún sistema? (s/n): s\n",
            "RESOLVER SISTEMA PROPORCIONADO\n",
            "============================================================\n",
            "Ingrese el número de ecuaciones/incógnitas: m\n",
            "Error: Ingrese valores numéricos válidos.\n",
            "\n",
            "¿Desea resolver algún sistema? (s/n): ,m\n",
            "Para volver a resolver un sistema ejecuta de nuevo\n"
          ]
        }
      ],
      "source": [
        "import numpy as np\n",
        "\n",
        "def Gseidel(A, b, x0, TOL, N):\n",
        "    n = len(b)\n",
        "    x = x0.copy()\n",
        "    XO = x0.copy()\n",
        "    historial = [XO.copy()]\n",
        "\n",
        "    print(\"MÉTODO ITERATIVO DE GAUSS-SEIDEL\")\n",
        "    print(\"=\" * 60)\n",
        "    print(f\"Sistema: {n} ecuaciones con {n} incógnitas\")\n",
        "    print(f\"Tolerancia: {TOL}\")\n",
        "    print(f\"Máximo de iteraciones: {N}\")\n",
        "    print(f\"{'Iteración':<10} {'x1':<12} {'x2':<12} {'x3':<12} {'Error':<12}\")\n",
        "    print(\"-\" * 60)\n",
        "\n",
        "    k = 1\n",
        "\n",
        "    while k <= N:\n",
        "        XO_anterior = XO.copy()\n",
        "\n",
        "        for i in range(n):\n",
        "            suma = 0\n",
        "            for j in range(i):\n",
        "                suma += A[i, j] * x[j]\n",
        "            for j in range(i+1, n):\n",
        "                suma += A[i, j] * XO[j]\n",
        "            x[i] = (b[i] - suma) / A[i, i]\n",
        "\n",
        "        XO = x.copy()\n",
        "        error = np.linalg.norm(x - XO_anterior)\n",
        "        historial.append(x.copy())\n",
        "\n",
        "        if n == 3:\n",
        "            print(f\"{k:<10} {x[0]:<12.6f} {x[1]:<12.6f} {x[2]:<12.6f} {error:<12.6f}\")\n",
        "        elif n == 2:\n",
        "            print(f\"{k:<10} {x[0]:<12.6f} {x[1]:<12.6f} {'-':<12} {error:<12.6f}\")\n",
        "        else:\n",
        "            valores_x = ' '.join([f'{xi:<12.6f}' for xi in x[:3]])\n",
        "            print(f\"{k:<10} {valores_x} {error:<12.6f}\")\n",
        "\n",
        "        if error < TOL:\n",
        "            print(\"-\" * 60)\n",
        "            print(f\"Convergencia alcanzada en {k} iteraciones\")\n",
        "            print(f\"Error final: {error:.8f}\")\n",
        "            return x, k, historial\n",
        "\n",
        "        k += 1\n",
        "\n",
        "    print(\"-\" * 60)\n",
        "    print(\"ADVERTENCIA: Número máximo de iteraciones excedido\")\n",
        "    return x, k-1, historial\n",
        "\n",
        "def Sistema():\n",
        "    #Aqui se hace un sistema personalizado para poder meter cualquier sistema de ecuaciones\n",
        "    print(\"RESOLVER SISTEMA PROPORCIONADO\")\n",
        "    print(\"=\"*60)\n",
        "\n",
        "    try:\n",
        "        n = int(input(\"Ingrese el número de ecuaciones/incógnitas: \"))\n",
        "\n",
        "        print(f\"\\nIngrese los coeficientes de la matriz A ({n}x{n}):\")\n",
        "        A = np.zeros((n, n))\n",
        "        for i in range(n):\n",
        "            for j in range(n):\n",
        "                A[i, j] = float(input(f\"A[{i+1},{j+1}] = \"))\n",
        "\n",
        "        print(f\"\\nIngrese los términos independientes b ({n} elementos):\")\n",
        "        b = np.zeros(n)\n",
        "        for i in range(n):\n",
        "            b[i] = float(input(f\"b[{i+1}] = \"))\n",
        "\n",
        "        print(f\"\\nIngrese la aproximación inicial x0 ({n} elementos):\")\n",
        "        x0 = np.zeros(n)\n",
        "        for i in range(n):\n",
        "            x0[i] = float(input(f\"x0[{i+1}] = \"))\n",
        "\n",
        "        TOL = float(input(\"\\nIngrese la tolerancia (ej: 0.0001): \"))\n",
        "        N = int(input(\"Ingrese el máximo de iteraciones: \"))\n",
        "\n",
        "        # Aplicar método de Gauss-Seidel\n",
        "        solucion, iteraciones, historial = Gseidel(A, b, x0, TOL, N)\n",
        "\n",
        "        # Mostrar solución final\n",
        "        print(\"\\nSOLUCIÓN FINAL:\")\n",
        "        print(\"-\" * 40)\n",
        "        for i in range(len(solucion)):\n",
        "            print(f\"x{i+1} = {solucion[i]:.8f}\")\n",
        "\n",
        "    except ValueError:\n",
        "        print(\"Error: Ingrese valores numéricos válidos.\")\n",
        "    except Exception as e:\n",
        "        print(f\"Error: {e}\")\n",
        "\n",
        "if __name__ == \"__main__\":\n",
        "    while True:\n",
        "        respuesta = input(\"\\n¿Desea resolver algún sistema? (s/n): \").lower()\n",
        "        if respuesta == 's':\n",
        "            Sistema()\n",
        "        else:\n",
        "            print(\"Para volver a resolver un sistema ejecuta de nuevo\")\n",
        "            break"
      ]
    }
  ]
}