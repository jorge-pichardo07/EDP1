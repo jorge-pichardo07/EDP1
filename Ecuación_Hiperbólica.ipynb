{
  "nbformat": 4,
  "nbformat_minor": 0,
  "metadata": {
    "colab": {
      "provenance": [],
      "authorship_tag": "ABX9TyP6pNumIEMG6223CW9TIVY6",
      "include_colab_link": true
    },
    "kernelspec": {
      "name": "python3",
      "display_name": "Python 3"
    },
    "language_info": {
      "name": "python"
    }
  },
  "cells": [
    {
      "cell_type": "markdown",
      "metadata": {
        "id": "view-in-github",
        "colab_type": "text"
      },
      "source": [
        "<a href=\"https://colab.research.google.com/github/jorge-pichardo07/EDP1/blob/main/Ecuaci%C3%B3n_Hiperb%C3%B3lica.ipynb\" target=\"_parent\"><img src=\"https://colab.research.google.com/assets/colab-badge.svg\" alt=\"Open In Colab\"/></a>"
      ]
    },
    {
      "cell_type": "markdown",
      "source": [
        "Usar sympy para escribir un programa que:\\\n",
        "1) Calcule el indicador y decida que el tipo de una EDP dada.\\\n",
        "2) De la transformación transformación lineal para llevar a su forma canónica una ecuación hiperbólica (ver foto del pizarrón).\n",
        "3) Devuelva la EDP en su forma canónica.\n"
      ],
      "metadata": {
        "id": "_n72-CIHXDKx"
      }
    },
    {
      "cell_type": "code",
      "source": [
        "\n",
        "import sympy as sp\n",
        "\n",
        "def Clasificar(edp_coef):\n",
        "\n",
        "    x, y = sp.symbols('x y')\n",
        "    A = edp_coef['A']\n",
        "    B = edp_coef['B']\n",
        "    C = edp_coef['C']\n",
        "\n",
        "    discriminante = B**2 - 4*A*C\n",
        "\n",
        "    if discriminante > 0:\n",
        "        tipo = \"hiperbólica\"\n",
        "    elif discriminante == 0:\n",
        "        tipo = \"parabólica\"\n",
        "    else:\n",
        "        tipo = \"elíptica\"\n",
        "\n",
        "    resultado = {'tipo_edp': tipo}\n",
        "\n",
        "\n",
        "    if tipo == \"hiperbólica\":\n",
        "        sqrt_disc = sp.sqrt(discriminante)\n",
        "\n",
        "        ξ = (-(B + sqrt_disc)*x + 2*A*y)\n",
        "        η = (-(B - sqrt_disc)*x + 2*A*y)\n",
        "\n",
        "        resultado['transformacion'] = {'ξ': ξ, 'η': η}\n",
        "\n",
        "        forma_canonica = \"u_ξη + términos de primer orden = 0\"\n",
        "        resultado['forma_canonica'] = forma_canonica\n",
        "\n",
        "    return resultado\n",
        "\n",
        "print(\"Forma general: A·u_xx + B·u_xy + C·u_yy + D·u_x + E·u_y + F·u = 0\\n\")\n",
        "\n",
        "print(\"Por favor ingrese los coeficientes:\")\n",
        "A = float(input(\"Coeficiente A (de u_xx): \"))\n",
        "B = float(input(\"Coeficiente B (de u_xy): \"))\n",
        "C = float(input(\"Coeficiente C (de u_yy): \"))\n",
        "D = float(input(\"Coeficiente D (de u_x): \"))\n",
        "E = float(input(\"Coeficiente E (de u_y): \"))\n",
        "F = float(input(\"Coeficiente F (de u): \"))\n",
        "\n",
        "Ecuación = {\n",
        "    'A': A,\n",
        "    'B': B,\n",
        "    'C': C,\n",
        "    'D': D,\n",
        "    'E': E,\n",
        "    'F': F\n",
        "}\n",
        "\n",
        "resultado = Clasificar(Ecuación)\n",
        "\n",
        "print(\"Clasificación de la EDP:\")\n",
        "print(f\"Tipo: {resultado['tipo_edp']}\")\n",
        "\n",
        "if resultado['tipo_edp'] == \"hiperbólica\":\n",
        "    print(\"\\nTransformación a coordenadas características:\")\n",
        "    print(f\"ξ = {resultado['transformacion']['ξ']}\")\n",
        "    print(f\"η = {resultado['transformacion']['η']}\")\n",
        "\n",
        "    print(\"\\nForma canónica:\")\n",
        "    print(resultado['forma_canonica'])"
      ],
      "metadata": {
        "colab": {
          "base_uri": "https://localhost:8080/"
        },
        "id": "IW_s9kT0X-oG",
        "outputId": "1e6fc3a4-3a64-4f23-ef1d-50927065415f"
      },
      "execution_count": null,
      "outputs": [
        {
          "output_type": "stream",
          "name": "stdout",
          "text": [
            "Forma general: A·u_xx + B·u_xy + C·u_yy + D·u_x + E·u_y + F·u = 0\n",
            "\n",
            "Por favor ingrese los coeficientes:\n",
            "Coeficiente A (de u_xx): 1\n",
            "Coeficiente B (de u_xy): 4\n",
            "Coeficiente C (de u_yy): 2\n",
            "Coeficiente D (de u_x): 1\n",
            "Coeficiente E (de u_y): 1\n",
            "Coeficiente F (de u): 1\n",
            "Clasificación de la EDP:\n",
            "Tipo: hiperbólica\n",
            "\n",
            "Transformación a coordenadas características:\n",
            "ξ = -6.82842712474619*x + 2.0*y\n",
            "η = -1.17157287525381*x + 2.0*y\n",
            "\n",
            "Forma canónica:\n",
            "u_ξη + términos de primer orden = 0\n"
          ]
        }
      ]
    },
    {
      "cell_type": "markdown",
      "source": [
        "En este código incié haciendo una funciópn en donde se determina A, B, C guardadas en un diccionario, de ahí evaluamos con el discriminante $B^2-4AC$, se muestran las condiciones if, elif y else para visualizar el tipo de ecuación, cuando es hiperbólica, transforma la ecuacionen su forma canónica"
      ],
      "metadata": {
        "id": "lOGTcJLkdk2q"
      }
    }
  ]
}