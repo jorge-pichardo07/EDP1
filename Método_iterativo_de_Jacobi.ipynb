{
  "nbformat": 4,
  "nbformat_minor": 0,
  "metadata": {
    "colab": {
      "provenance": [],
      "authorship_tag": "ABX9TyP3obY7PzQ0pjCy4H9VtZ5B",
      "include_colab_link": true
    },
    "kernelspec": {
      "name": "python3",
      "display_name": "Python 3"
    },
    "language_info": {
      "name": "python"
    }
  },
  "cells": [
    {
      "cell_type": "markdown",
      "metadata": {
        "id": "view-in-github",
        "colab_type": "text"
      },
      "source": [
        "<a href=\"https://colab.research.google.com/github/jorge-pichardo07/EDP1/blob/main/M%C3%A9todo_iterativo_de_Jacobi.ipynb\" target=\"_parent\"><img src=\"https://colab.research.google.com/assets/colab-badge.svg\" alt=\"Open In Colab\"/></a>"
      ]
    },
    {
      "cell_type": "code",
      "execution_count": 15,
      "metadata": {
        "colab": {
          "base_uri": "https://localhost:8080/"
        },
        "id": "xOe8kTy9A6TY",
        "outputId": "0fb04acd-dc72-4d07-f9bc-724cfae7e76a"
      },
      "outputs": [
        {
          "output_type": "stream",
          "name": "stdout",
          "text": [
            "\n",
            "¿Desea resolver algún sistema? (s/n): n\n",
            "Para volver a resolver un sistema ejecuta de nuevo\n"
          ]
        }
      ],
      "source": [
        "import numpy as np\n",
        "\n",
        "def metodo_jacobi(A, b, x0, TOL, N):\n",
        "\n",
        "    n = len(b)  # Número de ecuaciones/incógnitas\n",
        "    x = np.zeros(n)  # Vector para la nueva aproximación\n",
        "    XO = x0.copy()   # Copia del vector inicial (x^{(k)})\n",
        "    historial = [XO.copy()]  # Almacenar el historial de iteraciones\n",
        "\n",
        "    print(\"MÉTODO ITERATIVO DE JACOBI\")\n",
        "    print(f\"Sistema: {n} ecuaciones con {n} incógnitas\")\n",
        "    print(f\"Tolerancia: {TOL}\")\n",
        "    print(f\"Máximo de iteraciones: {N}\")\n",
        "    print(f\"{'Iteración':<10} {'x1':<12} {'x2':<12} {'x3':<12} {'Error':<12}\")\n",
        "    print(\"-\" * 60)\n",
        "\n",
        "    # Conteo de iteraciones\n",
        "    k = 1\n",
        "\n",
        "    # WhilE para detener nuestras iteraciones\n",
        "    while k <= N:\n",
        "        #Nueva aproximación\n",
        "        for i in range(n):\n",
        "            suma = 0\n",
        "            for j in range(n):\n",
        "                if j != i:  # Excluir el elemento diagonal\n",
        "                    suma += A[i, j] * XO[j]\n",
        "            x[i] = (b[i] - suma) / A[i, i]\n",
        "\n",
        "        # Calculamos el error con la norma-2\n",
        "        error = np.linalg.norm(x - XO)\n",
        "\n",
        "        # Almacenamos la iteración actual en el historial\n",
        "        historial.append(x.copy())\n",
        "\n",
        "        # Imprimir resultados de la iteración actual\n",
        "        if n == 3:\n",
        "            print(f\"{k:<10} {x[0]:<12.6f} {x[1]:<12.6f} {x[2]:<12.6f} {error:<12.6f}\")\n",
        "        elif n == 2:\n",
        "            print(f\"{k:<10} {x[0]:<12.6f} {x[1]:<12.6f} {'-':<12} {error:<12.6f}\")\n",
        "        else:\n",
        "            # En sistemas más grandes, mostrar solo las primeras 3 variables\n",
        "            valores_x = ' '.join([f'{xi:<12.6f}' for xi in x[:3]])\n",
        "            print(f\"{k:<10} {valores_x} {error:<12.6f}\")\n",
        "\n",
        "        # Criterio de convergencia\n",
        "        if error < TOL:\n",
        "            print(\"-\" * 60)\n",
        "            print(f\"Convergencia alcanzada en {k} iteraciones\")\n",
        "            print(f\"Error final: {error:.8f}\")\n",
        "            return x, k, historial\n",
        "\n",
        "        # Incrementamos el contador\n",
        "        k += 1\n",
        "\n",
        "        # Actualizamos la aproximación anterior\n",
        "        XO = x.copy()\n",
        "\n",
        "    # Al excederse el número máximo de iteraciones\n",
        "    print(\"ADVERTENCIA: Número máximo de iteraciones excedido\")\n",
        "    return x, k-1, historial\n",
        "\n",
        "\n",
        "def Sistema():\n",
        "    #Aqui se hace un sistema personalizado para poder meter cualquier sistema de ecuaciones\n",
        "    print(\"RESOLVER SISTEMA PROPORCIONADO\")\n",
        "    print(\"=\"*60)\n",
        "\n",
        "    try:\n",
        "        n = int(input(\"Ingrese el número de ecuaciones/incógnitas: \"))\n",
        "\n",
        "        print(f\"\\nIngrese los coeficientes de la matriz A ({n}x{n}):\")\n",
        "        A = np.zeros((n, n))\n",
        "        for i in range(n):\n",
        "            for j in range(n):\n",
        "                A[i, j] = float(input(f\"A[{i+1},{j+1}] = \"))\n",
        "\n",
        "        print(f\"\\nIngrese los términos independientes b ({n} elementos):\")\n",
        "        b = np.zeros(n)\n",
        "        for i in range(n):\n",
        "            b[i] = float(input(f\"b[{i+1}] = \"))\n",
        "\n",
        "        print(f\"\\nIngrese la aproximación inicial x0 ({n} elementos):\")\n",
        "        x0 = np.zeros(n)\n",
        "        for i in range(n):\n",
        "            x0[i] = float(input(f\"x0[{i+1}] = \"))\n",
        "\n",
        "        TOL = float(input(\"\\nIngrese la tolerancia (ej: 0.0001): \"))\n",
        "        N = int(input(\"Ingrese el máximo de iteraciones: \"))\n",
        "\n",
        "        # Aplicar método de Jacobi\n",
        "        solucion, iteraciones, historial = metodo_jacobi(A, b, x0, TOL, N)\n",
        "\n",
        "        # Mostrar solución final\n",
        "        print(\"\\nSOLUCIÓN FINAL:\")\n",
        "        print(\"-\" * 40)\n",
        "        for i in range(len(solucion)):\n",
        "            print(f\"x{i+1} = {solucion[i]:.8f}\")\n",
        "\n",
        "    except ValueError:\n",
        "        print(\"Error: Ingrese valores numéricos válidos.\")\n",
        "    except Exception as e:\n",
        "        print(f\"Error: {e}\")\n",
        "\n",
        "if __name__ == \"__main__\":\n",
        "\n",
        "    while True:\n",
        "        respuesta = input(\"\\n¿Desea resolver algún sistema? (s/n): \").lower()\n",
        "        if respuesta == 's':\n",
        "            Sistema()\n",
        "        else:\n",
        "            print(\"Para volver a resolver un sistema ejecuta de nuevo\")\n",
        "            break"
      ]
    }
  ]
}