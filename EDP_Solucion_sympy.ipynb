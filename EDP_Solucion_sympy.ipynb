{
  "nbformat": 4,
  "nbformat_minor": 0,
  "metadata": {
    "colab": {
      "provenance": [],
      "authorship_tag": "ABX9TyNuyafoMX0JnHYoxK2/6dth",
      "include_colab_link": true
    },
    "kernelspec": {
      "name": "python3",
      "display_name": "Python 3"
    },
    "language_info": {
      "name": "python"
    }
  },
  "cells": [
    {
      "cell_type": "markdown",
      "metadata": {
        "id": "view-in-github",
        "colab_type": "text"
      },
      "source": [
        "<a href=\"https://colab.research.google.com/github/jorge-pichardo07/EDP1/blob/main/EDP_Solucion_sympy.ipynb\" target=\"_parent\"><img src=\"https://colab.research.google.com/assets/colab-badge.svg\" alt=\"Open In Colab\"/></a>"
      ]
    },
    {
      "cell_type": "code",
      "source": [
        "from sympy import *\n",
        "import sympy as sp\n",
        "import numpy as np\n",
        "import matplotlib.pyplot as plt"
      ],
      "metadata": {
        "id": "ekhyDG4XsSUo"
      },
      "execution_count": null,
      "outputs": []
    },
    {
      "cell_type": "markdown",
      "source": [
        "Importamos las librerias que vamos a utilizar"
      ],
      "metadata": {
        "id": "k6SjFQrwsTT7"
      }
    },
    {
      "cell_type": "code",
      "source": [
        "x = sp.symbols('x')\n",
        "k = sp.symbols('k', positive=True, real=True)\n",
        "X = sp.Function('X')"
      ],
      "metadata": {
        "id": "5CcGyk0yscYH"
      },
      "execution_count": null,
      "outputs": []
    },
    {
      "cell_type": "markdown",
      "source": [
        "Ponemos las variables como simbolos, aquí k es un numero real"
      ],
      "metadata": {
        "id": "QvGWN5HAsdO_"
      }
    },
    {
      "cell_type": "code",
      "source": [
        "ode = Eq(X(x).diff(x, 2) + (k)*X(x), 0)"
      ],
      "metadata": {
        "id": "740wa4xVspja"
      },
      "execution_count": null,
      "outputs": []
    },
    {
      "cell_type": "markdown",
      "source": [
        "Escribimos la ecuación diferencial ordinaria $X''(x)+kX(x)=0$"
      ],
      "metadata": {
        "id": "4yZsT-RmsqbK"
      }
    },
    {
      "cell_type": "code",
      "source": [
        "sol = dsolve(ode, X(x))\n",
        "print(\"Solución general:\", sol)\n"
      ],
      "metadata": {
        "colab": {
          "base_uri": "https://localhost:8080/"
        },
        "id": "6XYLoXpFtFVj",
        "outputId": "38ad1346-1e02-4ab5-c9e5-aa026b2bbe1e"
      },
      "execution_count": null,
      "outputs": [
        {
          "output_type": "stream",
          "name": "stdout",
          "text": [
            "Solución general: Eq(X(x), C1*sin(sqrt(k)*x) + C2*cos(sqrt(k)*x))\n"
          ]
        }
      ]
    },
    {
      "cell_type": "markdown",
      "source": [
        "Aqui se resuelve simbolicamente la ecuacion diferencial"
      ],
      "metadata": {
        "id": "HfOsunDktGZY"
      }
    },
    {
      "cell_type": "code",
      "source": [
        "X_general = sol.rhs\n",
        "print(X_general)"
      ],
      "metadata": {
        "colab": {
          "base_uri": "https://localhost:8080/"
        },
        "id": "BqlRcj0etb-P",
        "outputId": "f74783d0-9713-4f2c-e67e-99ded4bcbe15"
      },
      "execution_count": null,
      "outputs": [
        {
          "output_type": "stream",
          "name": "stdout",
          "text": [
            "C1*sin(sqrt(k)*x) + C2*cos(sqrt(k)*x)\n"
          ]
        }
      ]
    },
    {
      "cell_type": "markdown",
      "source": [
        "Se aqui se toma la parte que nos interesa, en este caso la solucion general $X(x)= C1*sen(k*x)+C2*cos(k+x)$"
      ],
      "metadata": {
        "id": "UN0ZIGjLuq74"
      }
    },
    {
      "cell_type": "code",
      "source": [
        "C1, C2 = symbols('C1 C2')\n",
        "bc1 = X_general.subs(x, 0)\n",
        "bc2 = X_general.subs(x, 1)"
      ],
      "metadata": {
        "id": "bSPb5cv0wM7q"
      },
      "execution_count": null,
      "outputs": []
    },
    {
      "cell_type": "markdown",
      "source": [
        "Usamos estos valores para las condiciones iniclaes $X(0)=0, X(1)=0$ , el codigo ,subs sirve para ponerle valor a las variables"
      ],
      "metadata": {
        "id": "8a6w6cU0wOrX"
      }
    },
    {
      "cell_type": "code",
      "source": [
        "sist1 = [bc1, bc2]\n",
        "consts1 = solve(sist1, [C1, C2], dict=True)\n",
        "print(\"Solución del sistema (caso 1):\", consts1)"
      ],
      "metadata": {
        "colab": {
          "base_uri": "https://localhost:8080/"
        },
        "id": "mMbue6RywjQ_",
        "outputId": "bfbef9fe-2e73-4638-e157-97f9c14d5068"
      },
      "execution_count": null,
      "outputs": [
        {
          "output_type": "stream",
          "name": "stdout",
          "text": [
            "Solución del sistema (caso 1): [{C1: 0, C2: 0}]\n"
          ]
        }
      ]
    },
    {
      "cell_type": "markdown",
      "source": [
        "Aqui generamos un sistema de ecuaciones, y se resuelve con solve"
      ],
      "metadata": {
        "id": "H24XOhNQxE56"
      }
    },
    {
      "cell_type": "code",
      "source": [
        "k_cond1 = [simplify(sol) for sol in solve(bc2.subs(C1, 0), k)]\n",
        "k_cond1 = k_cond1[0] if k_cond1 else None\n",
        "print(k_cond1)"
      ],
      "metadata": {
        "colab": {
          "base_uri": "https://localhost:8080/"
        },
        "id": "X774KXOOx16C",
        "outputId": "4c541504-705f-4cfa-b2d8-3c3098ce23bd"
      },
      "execution_count": null,
      "outputs": [
        {
          "output_type": "stream",
          "name": "stdout",
          "text": [
            "pi**2/4\n"
          ]
        }
      ]
    },
    {
      "cell_type": "code",
      "source": [
        "k_val1 = pi**2\n",
        "X1 = X_general.subs({C1: 0, C2: 1, k: k_val1}).rewrite(sin)\n",
        "print(X1)"
      ],
      "metadata": {
        "colab": {
          "base_uri": "https://localhost:8080/"
        },
        "id": "k0Qll7dsyjgE",
        "outputId": "726cc999-be26-4ec9-dc48-8c0161f1e554"
      },
      "execution_count": null,
      "outputs": [
        {
          "output_type": "stream",
          "name": "stdout",
          "text": [
            "sin(pi*x + pi/2)\n"
          ]
        }
      ]
    },
    {
      "cell_type": "code",
      "source": [
        "f1 = lambdify(x, X1, 'numpy')\n",
        "xx = np.linspace(0, 1, 200)\n",
        "yy1 = f1(xx)\n",
        "\n",
        "plt.plot(xx, yy1, 'r', label=\"Caso 1: X(0)=X(1)=0\")\n",
        "plt.xlabel('x')\n",
        "plt.ylabel('X(x)')\n",
        "plt.title(\"Solución a X'' + kX = 0 con condiciones de frontera\")\n",
        "plt.grid(True)\n"
      ],
      "metadata": {
        "colab": {
          "base_uri": "https://localhost:8080/",
          "height": 472
        },
        "id": "EqbEYoHX1pkf",
        "outputId": "6a70269d-0d25-4676-f566-54185fc5413b"
      },
      "execution_count": null,
      "outputs": [
        {
          "output_type": "display_data",
          "data": {
            "text/plain": [
              "<Figure size 640x480 with 1 Axes>"
            ],
            "image/png": "[encoded data removed]"
          },
          "metadata": {}
        }
      ]
    },
    {
      "cell_type": "markdown",
      "source": [
        "Aqui hacemos la gráfica"
      ],
      "metadata": {
        "id": "zcLzmLNMU5eZ"
      }
    },
    {
      "cell_type": "code",
      "source": [
        "Xp = X_general.diff(x)\n",
        "bc3 = Xp.subs(x, 0)\n",
        "bc4 = Xp.subs(x, 1)"
      ],
      "metadata": {
        "id": "915_6M1OVTeH"
      },
      "execution_count": null,
      "outputs": []
    },
    {
      "cell_type": "markdown",
      "source": [
        "Hacemos las variables con los valores iniciales"
      ],
      "metadata": {
        "id": "jSOGl9K3VULC"
      }
    },
    {
      "cell_type": "code",
      "source": [
        "sist2 = [bc3, bc4]\n",
        "consts2 = solve(sist2, [C1, C2], dict=True)\n",
        "print(\"Solución del sistema (caso 2):\", consts2)\n"
      ],
      "metadata": {
        "colab": {
          "base_uri": "https://localhost:8080/"
        },
        "id": "A2d5sO7pVUoG",
        "outputId": "620728d3-987d-4473-a290-4d2958eee65a"
      },
      "execution_count": null,
      "outputs": [
        {
          "output_type": "stream",
          "name": "stdout",
          "text": [
            "Solución del sistema (caso 2): [{C1: 0, C2: 0}]\n"
          ]
        }
      ]
    },
    {
      "cell_type": "markdown",
      "source": [
        "Realizamos el sistema de ecuaciones, para obtere los valores de las constantes"
      ],
      "metadata": {
        "id": "_-Yk4hB9VVnt"
      }
    },
    {
      "cell_type": "code",
      "source": [
        "k_val2 = (pi)**2\n",
        "X2 = X_general.subs({C2: 0, C1: 1, k: k_val2}).rewrite(cos)\n"
      ],
      "metadata": {
        "id": "1mQedSkqVnX-"
      },
      "execution_count": null,
      "outputs": []
    },
    {
      "cell_type": "markdown",
      "source": [
        "De igual manera que arriba, aqui buscamos la soluión no trivial, con $k= \\piˆ2$"
      ],
      "metadata": {
        "id": "bEiQ6GSSVpYp"
      }
    },
    {
      "cell_type": "code",
      "source": [
        "f2 = lambdify(x, X2, 'numpy')\n",
        "yy2 = f2(xx)\n",
        "\n",
        "plt.plot(xx, yy2, 'b--', label=\"Caso 2: X'(0)=X'(1)=0\")\n",
        "plt.legend()\n",
        "plt.show()"
      ],
      "metadata": {
        "colab": {
          "base_uri": "https://localhost:8080/",
          "height": 430
        },
        "id": "3uBFA1viYKhn",
        "outputId": "b4af5882-fe52-46ce-dc96-757e88df9f4a"
      },
      "execution_count": null,
      "outputs": [
        {
          "output_type": "display_data",
          "data": {
            "text/plain": [
              "<Figure size 640x480 with 1 Axes>"
            ],
            "image/png": "[encoded data removed]"
          },
          "metadata": {}
        }
      ]
    },
    {
      "cell_type": "markdown",
      "source": [
        "Graficamos"
      ],
      "metadata": {
        "id": "bcrZONPqYLN_"
      }
    },
    {
      "cell_type": "markdown",
      "source": [],
      "metadata": {
        "id": "PfE7Dky010vT"
      }
    }
  ]
}